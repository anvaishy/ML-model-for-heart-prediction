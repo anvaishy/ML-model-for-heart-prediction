{
 "cells": [
  {
   "cell_type": "code",
   "execution_count": 101,
   "source": [
    "\r\n",
    "\r\n",
    "import pandas as pd\r\n",
    "import numpy as np\r\n",
    "import matplotlib.pyplot as plt\r\n",
    "%matplotlib inline\r\n",
    "import seaborn as sns\r\n",
    "import re\r\n",
    "\r\n",
    "from sklearn.svm import SVC\r\n",
    "from sklearn.tree import DecisionTreeClassifier\r\n",
    "from sklearn.ensemble import RandomForestClassifier, AdaBoostClassifier, GradientBoostingClassifier\r\n",
    "from sklearn.model_selection import train_test_split, GridSearchCV\r\n",
    "from sklearn.metrics import accuracy_score, confusion_matrix, classification_report, make_scorer\r\n",
    "\r\n",
    "from plotly.offline import iplot\r\n",
    "import plotly as py\r\n",
    "import plotly.tools as tls\r\n",
    "\r\n",
    "import pickle"
   ],
   "outputs": [],
   "metadata": {
    "colab": {},
    "colab_type": "code",
    "id": "U_NLHBUJcFUQ"
   }
  },
  {
   "cell_type": "code",
   "execution_count": 102,
   "source": [
    "\r\n",
    "df = pd.read_csv('heart.csv')"
   ],
   "outputs": [],
   "metadata": {
    "colab": {},
    "colab_type": "code",
    "id": "oW9GJfOkcFUb",
    "outputId": "c55ba37f-6549-4d31-d8de-dfd8181c9e80"
   }
  },
  {
   "cell_type": "code",
   "execution_count": 103,
   "source": [
    "\r\n",
    "target = df['target']\r\n",
    "features = df.drop(['target'], axis = 1)"
   ],
   "outputs": [],
   "metadata": {}
  },
  {
   "cell_type": "code",
   "execution_count": 104,
   "source": [
    "\r\n",
    "X_train, X_test, y_train, y_test = train_test_split(features, target, test_size = 0.2, random_state = 0)"
   ],
   "outputs": [],
   "metadata": {}
  },
  {
   "cell_type": "code",
   "execution_count": 105,
   "source": [
    "# Train and evaluate model\r\n",
    "def fit_eval_model(model, train_features, y_train, test_features, y_test):\r\n",
    "    results = {}\r\n",
    "    \r\n",
    "    \r\n",
    "    model.fit(train_features, y_train)\r\n",
    "    \r\n",
    "    \r\n",
    "    train_predicted = model.predict(train_features)\r\n",
    "    test_predicted = model.predict(test_features)\r\n",
    "    \r\n",
    "     \r\n",
    "    results['classification_report'] = classification_report(y_test, test_predicted)\r\n",
    "    results['confusion_matrix'] = confusion_matrix(y_test, test_predicted)\r\n",
    "        \r\n",
    "    return results\r\n",
    "    "
   ],
   "outputs": [],
   "metadata": {}
  },
  {
   "cell_type": "code",
   "execution_count": 106,
   "source": [
    "\r\n",
    "sv = SVC(random_state = 1)\r\n",
    "rf = RandomForestClassifier(random_state = 1)\r\n",
    "ab = AdaBoostClassifier(random_state = 1)\r\n",
    "gb = GradientBoostingClassifier(random_state = 1)\r\n",
    "results = {}\r\n",
    "for cls in [sv, rf, ab, gb]:\r\n",
    "    cls_name = cls.__class__.__name__\r\n",
    "    results[cls_name] = {}\r\n",
    "    results[cls_name] = fit_eval_model(cls, X_train, y_train, X_test, y_test)\r\n",
    "    "
   ],
   "outputs": [],
   "metadata": {}
  },
  {
   "cell_type": "code",
   "execution_count": 107,
   "source": [
    "\r\n",
    "for result in results:\r\n",
    "    print (result)\r\n",
    "    print()\r\n",
    "    for i in results[result]:\r\n",
    "        print (i, ':')\r\n",
    "        print(results[result][i])\r\n",
    "        print()\r\n",
    "    print ('-----')\r\n",
    "    print()"
   ],
   "outputs": [
    {
     "output_type": "stream",
     "name": "stdout",
     "text": [
      "SVC\n",
      "\n",
      "classification_report :\n",
      "              precision    recall  f1-score   support\n",
      "\n",
      "           0       0.72      0.48      0.58        27\n",
      "           1       0.67      0.85      0.75        34\n",
      "\n",
      "    accuracy                           0.69        61\n",
      "   macro avg       0.70      0.67      0.67        61\n",
      "weighted avg       0.70      0.69      0.68        61\n",
      "\n",
      "\n",
      "confusion_matrix :\n",
      "[[13 14]\n",
      " [ 5 29]]\n",
      "\n",
      "-----\n",
      "\n",
      "RandomForestClassifier\n",
      "\n",
      "classification_report :\n",
      "              precision    recall  f1-score   support\n",
      "\n",
      "           0       0.79      0.85      0.82        27\n",
      "           1       0.88      0.82      0.85        34\n",
      "\n",
      "    accuracy                           0.84        61\n",
      "   macro avg       0.83      0.84      0.83        61\n",
      "weighted avg       0.84      0.84      0.84        61\n",
      "\n",
      "\n",
      "confusion_matrix :\n",
      "[[23  4]\n",
      " [ 6 28]]\n",
      "\n",
      "-----\n",
      "\n",
      "AdaBoostClassifier\n",
      "\n",
      "classification_report :\n",
      "              precision    recall  f1-score   support\n",
      "\n",
      "           0       0.86      0.93      0.89        27\n",
      "           1       0.94      0.88      0.91        34\n",
      "\n",
      "    accuracy                           0.90        61\n",
      "   macro avg       0.90      0.90      0.90        61\n",
      "weighted avg       0.90      0.90      0.90        61\n",
      "\n",
      "\n",
      "confusion_matrix :\n",
      "[[25  2]\n",
      " [ 4 30]]\n",
      "\n",
      "-----\n",
      "\n",
      "GradientBoostingClassifier\n",
      "\n",
      "classification_report :\n",
      "              precision    recall  f1-score   support\n",
      "\n",
      "           0       0.78      0.78      0.78        27\n",
      "           1       0.82      0.82      0.82        34\n",
      "\n",
      "    accuracy                           0.80        61\n",
      "   macro avg       0.80      0.80      0.80        61\n",
      "weighted avg       0.80      0.80      0.80        61\n",
      "\n",
      "\n",
      "confusion_matrix :\n",
      "[[21  6]\n",
      " [ 6 28]]\n",
      "\n",
      "-----\n",
      "\n"
     ]
    }
   ],
   "metadata": {
    "scrolled": false
   }
  },
  {
   "cell_type": "code",
   "execution_count": 108,
   "source": [
    "\r\n",
    "with open('model.pkl', 'wb') as file:\r\n",
    "    pickle.dump(gb, file)"
   ],
   "outputs": [],
   "metadata": {}
  }
 ],
 "metadata": {
  "colab": {
   "collapsed_sections": [],
   "name": "preference_prodcuts.ipynb",
   "provenance": [],
   "toc_visible": true
  },
  "kernelspec": {
   "name": "python3",
   "display_name": "Python 3.9.6 64-bit"
  },
  "language_info": {
   "codemirror_mode": {
    "name": "ipython",
    "version": 3
   },
   "file_extension": ".py",
   "mimetype": "text/x-python",
   "name": "python",
   "nbconvert_exporter": "python",
   "pygments_lexer": "ipython3",
   "version": "3.9.6"
  },
  "interpreter": {
   "hash": "4b9aef0db779d7e7767ccac9ce1f3aea5670148b5e28a15294ce312f53138f19"
  }
 },
 "nbformat": 4,
 "nbformat_minor": 1
}